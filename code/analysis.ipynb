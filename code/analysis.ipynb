{
 "cells": [
  {
   "cell_type": "code",
   "execution_count": 1,
   "metadata": {},
   "outputs": [],
   "source": [
    "import os\n",
    "\n",
    "import torch\n",
    "\n",
    "import utils.globals as uglobals"
   ]
  },
  {
   "cell_type": "code",
   "execution_count": 2,
   "metadata": {},
   "outputs": [
    {
     "name": "stdout",
     "output_type": "stream",
     "text": [
      "train_5_test_0_pearson_0.233.pt\n",
      "Mean negative model output: -6.537278652191162\n",
      "Mean human scores: -0.07407544553279877\n",
      "\n",
      "train_5_test_1_pearson_0.212.pt\n",
      "Mean negative model output: -6.127025604248047\n",
      "Mean human scores: -0.047357458621263504\n",
      "\n",
      "train_5_test_2_pearson_0.296.pt\n",
      "Mean negative model output: -5.765416622161865\n",
      "Mean human scores: 0.04268825054168701\n",
      "\n",
      "train_5_test_3_pearson_0.239.pt\n",
      "Mean negative model output: -5.700434684753418\n",
      "Mean human scores: -5.17561674118042\n",
      "\n",
      "train_5_test_4_pearson_0.255.pt\n",
      "Mean negative model output: -5.492023944854736\n",
      "Mean human scores: -5.158359050750732\n",
      "\n",
      "train_5_test_5_pearson_0.169.pt\n",
      "Mean negative model output: -5.69222354888916\n",
      "Mean human scores: -2.8459370136260986\n",
      "\n"
     ]
    }
   ],
   "source": [
    "root = 'train_5_test'\n",
    "\n",
    "for file_name in os.listdir(f\"{uglobals.OUTPUTS_DIR}/train_naive\"):\n",
    "    if root not in file_name:\n",
    "        continue\n",
    "    file_path = f\"{uglobals.OUTPUTS_DIR}/train_naive/{file_name}\"\n",
    "\n",
    "    loaded = torch.load(file_path)\n",
    "    model_outs, scores = torch.tensor(loaded['model_outs']), torch.tensor(loaded['scores'])\n",
    "    \n",
    "    print(file_name)\n",
    "    print(f'Mean negative model output: {-model_outs.mean()}')\n",
    "    print(f'Mean human scores: {scores.mean()}')\n",
    "    print()\n"
   ]
  },
  {
   "cell_type": "code",
   "execution_count": 3,
   "metadata": {},
   "outputs": [
    {
     "name": "stdout",
     "output_type": "stream",
     "text": [
      "train_0_test_0_pearson_0.275.pt\n",
      "Mean negative model output: -4.667752265930176\n",
      "Mean human scores: -0.07407544553279877\n",
      "\n",
      "train_0_test_1_pearson_0.218.pt\n",
      "Mean negative model output: -4.523404121398926\n",
      "Mean human scores: -0.047357458621263504\n",
      "\n",
      "train_0_test_2_pearson_0.295.pt\n",
      "Mean negative model output: -4.1987457275390625\n",
      "Mean human scores: 0.04268825054168701\n",
      "\n",
      "train_0_test_3_pearson_0.192.pt\n",
      "Mean negative model output: -4.099063396453857\n",
      "Mean human scores: -5.17561674118042\n",
      "\n",
      "train_0_test_4_pearson_0.152.pt\n",
      "Mean negative model output: -4.067773342132568\n",
      "Mean human scores: -5.158359050750732\n",
      "\n",
      "train_0_test_5_pearson_0.13.pt\n",
      "Mean negative model output: -4.40347957611084\n",
      "Mean human scores: -2.8459370136260986\n",
      "\n"
     ]
    }
   ],
   "source": [
    "root = 'train_0_test'\n",
    "\n",
    "for file_name in os.listdir(f\"{uglobals.OUTPUTS_DIR}/train_oracle\"):\n",
    "    if root not in file_name:\n",
    "        continue\n",
    "    file_path = f\"{uglobals.OUTPUTS_DIR}/train_oracle/{file_name}\"\n",
    "\n",
    "    loaded = torch.load(file_path)\n",
    "    model_outs, scores = torch.tensor(loaded['model_outs']), torch.tensor(loaded['scores'])\n",
    "    \n",
    "    print(file_name)\n",
    "    print(f'Mean negative model output: {-model_outs.mean()}')\n",
    "    print(f'Mean human scores: {scores.mean()}')\n",
    "    print()"
   ]
  },
  {
   "cell_type": "code",
   "execution_count": 4,
   "metadata": {},
   "outputs": [
    {
     "name": "stdout",
     "output_type": "stream",
     "text": [
      "train_5_test_0_pearson_0.311.pt\n",
      "Mean negative model output: -6.484269142150879\n",
      "Mean human scores: -0.07407544553279877\n",
      "\n",
      "train_5_test_1_pearson_0.281.pt\n",
      "Mean negative model output: -5.995595455169678\n",
      "Mean human scores: -0.047357458621263504\n",
      "\n",
      "train_5_test_2_pearson_0.396.pt\n",
      "Mean negative model output: -5.353818893432617\n",
      "Mean human scores: 0.04268825054168701\n",
      "\n",
      "train_5_test_3_pearson_0.3.pt\n",
      "Mean negative model output: -5.025619983673096\n",
      "Mean human scores: -5.17561674118042\n",
      "\n",
      "train_5_test_4_pearson_0.293.pt\n",
      "Mean negative model output: -4.789997577667236\n",
      "Mean human scores: -5.158359050750732\n",
      "\n",
      "train_5_test_5_pearson_0.252.pt\n",
      "Mean negative model output: -5.38309907913208\n",
      "Mean human scores: -2.8459370136260986\n",
      "\n"
     ]
    }
   ],
   "source": [
    "root = 'train_5_test'\n",
    "\n",
    "for file_name in os.listdir(f\"{uglobals.OUTPUTS_DIR}/train_simple_scalar_0.3\"):\n",
    "    if root not in file_name:\n",
    "        continue\n",
    "    file_path = f\"{uglobals.OUTPUTS_DIR}/train_simple_scalar_0.3/{file_name}\"\n",
    "\n",
    "    loaded = torch.load(file_path)\n",
    "    model_outs, scores = torch.tensor(loaded['model_outs']), torch.tensor(loaded['scores'])\n",
    "    \n",
    "    print(file_name)\n",
    "    print(f'Mean negative model output: {-model_outs.mean()}')\n",
    "    print(f'Mean human scores: {scores.mean()}')\n",
    "    print()"
   ]
  },
  {
   "cell_type": "code",
   "execution_count": null,
   "metadata": {},
   "outputs": [],
   "source": []
  }
 ],
 "metadata": {
  "kernelspec": {
   "display_name": "khan",
   "language": "python",
   "name": "python3"
  },
  "language_info": {
   "codemirror_mode": {
    "name": "ipython",
    "version": 3
   },
   "file_extension": ".py",
   "mimetype": "text/x-python",
   "name": "python",
   "nbconvert_exporter": "python",
   "pygments_lexer": "ipython3",
   "version": "3.9.17"
  }
 },
 "nbformat": 4,
 "nbformat_minor": 2
}
