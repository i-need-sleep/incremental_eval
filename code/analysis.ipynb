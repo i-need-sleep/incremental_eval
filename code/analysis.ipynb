{
 "cells": [
  {
   "cell_type": "code",
   "execution_count": 1,
   "metadata": {},
   "outputs": [],
   "source": [
    "import os\n",
    "\n",
    "import torch\n",
    "\n",
    "import utils.globals as uglobals"
   ]
  },
  {
   "cell_type": "code",
   "execution_count": 3,
   "metadata": {},
   "outputs": [
    {
     "name": "stdout",
     "output_type": "stream",
     "text": [
      "train_5_test_0_pearson_0.338.pt\n",
      "Mean negative model output: -6.206789016723633\n",
      "Mean human scores: -0.07407544553279877\n",
      "\n",
      "train_5_test_1_pearson_0.281.pt\n",
      "Mean negative model output: -5.662954807281494\n",
      "Mean human scores: -0.047357458621263504\n",
      "\n",
      "train_5_test_2_pearson_0.412.pt\n",
      "Mean negative model output: -5.171363353729248\n",
      "Mean human scores: 0.04268825054168701\n",
      "\n",
      "train_5_test_3_pearson_0.277.pt\n",
      "Mean negative model output: -4.796127796173096\n",
      "Mean human scores: -5.17561674118042\n",
      "\n",
      "train_5_test_4_pearson_0.274.pt\n",
      "Mean negative model output: -4.616082191467285\n",
      "Mean human scores: -5.158359050750732\n",
      "\n",
      "train_5_test_5_pearson_0.251.pt\n",
      "Mean negative model output: -4.964138984680176\n",
      "Mean human scores: -2.8459370136260986\n",
      "\n"
     ]
    }
   ],
   "source": [
    "root = 'train_5_test'\n",
    "\n",
    "for file_name in os.listdir(f\"{uglobals.OUTPUTS_DIR}/train_naive\"):\n",
    "    if root not in file_name:\n",
    "        continue\n",
    "    file_path = f\"{uglobals.OUTPUTS_DIR}/train_naive/{file_name}\"\n",
    "\n",
    "    loaded = torch.load(file_path)\n",
    "    model_outs, scores = torch.tensor(loaded['model_outs']), torch.tensor(loaded['scores'])\n",
    "    \n",
    "    print(file_name)\n",
    "    print(f'Mean negative model output: {-model_outs.mean()}')\n",
    "    print(f'Mean human scores: {scores.mean()}')\n",
    "    print()\n"
   ]
  },
  {
   "cell_type": "code",
   "execution_count": 11,
   "metadata": {},
   "outputs": [
    {
     "name": "stdout",
     "output_type": "stream",
     "text": [
      "train_0_test_3_pearson_0.19.pt\n",
      "Mean negative model output: -4.110923767089844\n",
      "\n",
      "train_0_test_4_pearson_0.242.pt\n",
      "Mean negative model output: -3.7716071605682373\n",
      "\n",
      "train_0_test_5_pearson_0.192.pt\n",
      "Mean negative model output: -4.599081993103027\n",
      "\n"
     ]
    }
   ],
   "source": [
    "root = 'train_0_test'\n",
    "folder_name = 'train_oracle_3epo_3e-6'\n",
    "\n",
    "for file_name in os.listdir(f\"{uglobals.OUTPUTS_DIR}/{folder_name}\"):\n",
    "    if root not in file_name or ('test_3' not in file_name and 'test_4' not in file_name and 'test_5' not in file_name):\n",
    "        continue\n",
    "    file_path = f\"{uglobals.OUTPUTS_DIR}/{folder_name}/{file_name}\"\n",
    "\n",
    "    loaded = torch.load(file_path)\n",
    "    model_outs, scores = torch.tensor(loaded['model_outs']), torch.tensor(loaded['scores'])\n",
    "    \n",
    "    print(file_name)\n",
    "    print(f'Mean negative model output: {-model_outs.mean()}')\n",
    "    # print(f'Mean human scores: {scores.mean()}')\n",
    "    print()"
   ]
  },
  {
   "cell_type": "code",
   "execution_count": 31,
   "metadata": {},
   "outputs": [
    {
     "name": "stdout",
     "output_type": "stream",
     "text": [
      "train_5_test_3_pearson_0.221.pt\n",
      "train_5_test_4_pearson_0.298.pt\n",
      "train_5_test_5_pearson_0.262.pt\n",
      "& -4.674 & -4.702 & -5.282 \\\\\n"
     ]
    }
   ],
   "source": [
    "def get_mean_scores(folder):\n",
    "    root = 'train_5_test'\n",
    "    out_str = ''\n",
    "    for file_name in os.listdir(f\"{uglobals.OUTPUTS_DIR}/{folder}\"):\n",
    "        if root not in file_name  or ('test_3' not in file_name and 'test_4' not in file_name and 'test_5' not in file_name):\n",
    "            continue\n",
    "        file_path = f\"{uglobals.OUTPUTS_DIR}/{folder}/{file_name}\"\n",
    "\n",
    "        loaded = torch.load(file_path)\n",
    "        model_outs, scores = torch.tensor(loaded['model_outs']), torch.tensor(loaded['scores'])\n",
    "        \n",
    "        print(file_name)\n",
    "        # print(f'Mean negative model output: {-model_outs.mean()}')\n",
    "        # print(f'Mean human scores: {scores.mean()}')\n",
    "        # print()\n",
    "        formatted_mean = f'{-model_outs.mean():.3f}'\n",
    "        out_str += f'& {formatted_mean} '\n",
    "    out_str += '\\\\\\\\'\n",
    "    print(out_str)\n",
    "\n",
    "get_mean_scores('train_ewc_0.7')"
   ]
  },
  {
   "cell_type": "code",
   "execution_count": 32,
   "metadata": {},
   "outputs": [
    {
     "name": "stdout",
     "output_type": "stream",
     "text": [
      "train_5_test_3_pearson_0.286.pt\n",
      "train_5_test_4_pearson_0.298.pt\n",
      "train_5_test_5_pearson_0.262.pt\n",
      "& -4.806 & -4.701 & -5.211 \\\\\n"
     ]
    }
   ],
   "source": [
    "get_mean_scores('train_naive_simple_anchor_2')"
   ]
  },
  {
   "cell_type": "code",
   "execution_count": null,
   "metadata": {},
   "outputs": [],
   "source": []
  }
 ],
 "metadata": {
  "kernelspec": {
   "display_name": "khan",
   "language": "python",
   "name": "python3"
  },
  "language_info": {
   "codemirror_mode": {
    "name": "ipython",
    "version": 3
   },
   "file_extension": ".py",
   "mimetype": "text/x-python",
   "name": "python",
   "nbconvert_exporter": "python",
   "pygments_lexer": "ipython3",
   "version": "3.9.17"
  }
 },
 "nbformat": 4,
 "nbformat_minor": 2
}
