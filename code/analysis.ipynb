{
 "cells": [
  {
   "cell_type": "code",
   "execution_count": 1,
   "metadata": {},
   "outputs": [],
   "source": [
    "import os\n",
    "\n",
    "import torch\n",
    "\n",
    "import utils.globals as uglobals"
   ]
  },
  {
   "cell_type": "markdown",
   "metadata": {},
   "source": [
    "\tLoss_Epoch/train_phase/train_stream/Task000 = 1.9094\n",
    "-- >> End of training phase << --\n",
    "Training 0, Testing 0, Pearson 0.27031392196188403\n",
    "Training 0, Testing 1, Pearson 0.250709528905957\n",
    "Training 0, Testing 2, Pearson 0.3257120543269918\n",
    "Training 0, Testing 3, Pearson -0.0760939521548741\n",
    "Training 0, Testing 4, Pearson 0.04899995267138977\n",
    "Training 0, Testing 5, Pearson -0.01824390193467296\n",
    "-- >> Start of training phase << --\n",
    "\n",
    "\tLoss_Epoch/train_phase/train_stream/Task000 = 1.8779\n",
    "-- >> End of training phase << --\n",
    "Training 1, Testing 0, Pearson 0.2801615742899245\n",
    "Training 1, Testing 1, Pearson 0.23188509036491167\n",
    "Training 1, Testing 2, Pearson 0.34357325525188775\n",
    "Training 1, Testing 3, Pearson -0.0519394170491428\n",
    "Training 1, Testing 4, Pearson 0.0827926523100839\n",
    "Training 1, Testing 5, Pearson 0.10336401703483873\n",
    "-- >> Start of training phase << --\n",
    "\n",
    "\tLoss_Epoch/train_phase/train_stream/Task000 = 1.6617\n",
    "-- >> End of training phase << --\n",
    "Training 2, Testing 0, Pearson 0.2936640359205335\n",
    "Training 2, Testing 1, Pearson 0.26967818664007176\n",
    "Training 2, Testing 2, Pearson 0.3664686644185644\n",
    "Training 2, Testing 3, Pearson -0.062101856079669324\n",
    "Training 2, Testing 4, Pearson 0.05959517881683932\n",
    "Training 2, Testing 5, Pearson 0.12189058563859409\n",
    "-- >> Start of training phase << --\n",
    "\n",
    "\tLoss_Epoch/train_phase/train_stream/Task000 = 1.6207\n",
    "-- >> End of training phase << --\n",
    "Training 3, Testing 0, Pearson 0.26448484962410257\n",
    "Training 3, Testing 1, Pearson 0.2397712450862584\n",
    "Training 3, Testing 2, Pearson 0.3496266585635765\n",
    "Training 3, Testing 3, Pearson 0.28101697375112467\n",
    "Training 3, Testing 4, Pearson 0.2081511478774507\n",
    "Training 3, Testing 5, Pearson 0.1351247126043153\n",
    "-- >> Start of training phase << --\n",
    "\n",
    "\tLoss_Epoch/train_phase/train_stream/Task000 = 1.6386\n",
    "-- >> End of training phase << --\n",
    "Training 4, Testing 0, Pearson 0.23025398816199638\n",
    "Training 4, Testing 1, Pearson 0.21775726330530001\n",
    "Training 4, Testing 2, Pearson 0.3149010480455612\n",
    "Training 4, Testing 3, Pearson 0.23634234603073606\n",
    "Training 4, Testing 4, Pearson 0.260691899995239\n",
    "Training 4, Testing 5, Pearson 0.19813992960893956\n",
    "-- >> Start of training phase << --\n",
    "\n",
    "\tLoss_Epoch/train_phase/train_stream/Task000 = 1.3544\n",
    "-- >> End of training phase << --\n",
    "Training 5, Testing 0, Pearson 0.23309607646385944\n",
    "Training 5, Testing 1, Pearson 0.21208425105556578\n",
    "Training 5, Testing 2, Pearson 0.29569065713367704\n",
    "Training 5, Testing 3, Pearson 0.23856377928371633\n",
    "Training 5, Testing 4, Pearson 0.2553716365469276\n",
    "Training 5, Testing 5, Pearson 0.16919138147424398"
   ]
  },
  {
   "cell_type": "code",
   "execution_count": 2,
   "metadata": {},
   "outputs": [
    {
     "name": "stdout",
     "output_type": "stream",
     "text": [
      "train_5_test_0_pearson_0.233.pt\n",
      "Mean negative model output: -6.537278652191162\n",
      "Mean human scores: -0.07407544553279877\n",
      "\n",
      "train_5_test_1_pearson_0.212.pt\n",
      "Mean negative model output: -6.127025604248047\n",
      "Mean human scores: -0.047357458621263504\n",
      "\n",
      "train_5_test_2_pearson_0.296.pt\n",
      "Mean negative model output: -5.765416622161865\n",
      "Mean human scores: 0.04268825054168701\n",
      "\n",
      "train_5_test_3_pearson_0.239.pt\n",
      "Mean negative model output: -5.700434684753418\n",
      "Mean human scores: -5.17561674118042\n",
      "\n",
      "train_5_test_4_pearson_0.255.pt\n",
      "Mean negative model output: -5.492023944854736\n",
      "Mean human scores: -5.158359050750732\n",
      "\n",
      "train_5_test_5_pearson_0.169.pt\n",
      "Mean negative model output: -5.69222354888916\n",
      "Mean human scores: -2.8459370136260986\n",
      "\n"
     ]
    }
   ],
   "source": [
    "root = 'train_5_test'\n",
    "\n",
    "for file_name in os.listdir(f\"{uglobals.OUTPUTS_DIR}/train_naive\"):\n",
    "    if root not in file_name:\n",
    "        continue\n",
    "    file_path = f\"{uglobals.OUTPUTS_DIR}/train_naive/{file_name}\"\n",
    "\n",
    "    loaded = torch.load(file_path)\n",
    "    model_outs, scores = torch.tensor(loaded['model_outs']), torch.tensor(loaded['scores'])\n",
    "    \n",
    "    print(file_name)\n",
    "    print(f'Mean negative model output: {-model_outs.mean()}')\n",
    "    print(f'Mean human scores: {scores.mean()}')\n",
    "    print()\n"
   ]
  },
  {
   "cell_type": "code",
   "execution_count": 5,
   "metadata": {},
   "outputs": [
    {
     "name": "stdout",
     "output_type": "stream",
     "text": [
      "train_0_test_0_pearson_0.275.pt\n",
      "Mean negative model output: -4.667752265930176\n",
      "Mean human scores: -0.07407544553279877\n",
      "\n",
      "train_0_test_1_pearson_0.218.pt\n",
      "Mean negative model output: -4.523404121398926\n",
      "Mean human scores: -0.047357458621263504\n",
      "\n",
      "train_0_test_2_pearson_0.295.pt\n",
      "Mean negative model output: -4.1987457275390625\n",
      "Mean human scores: 0.04268825054168701\n",
      "\n",
      "train_0_test_3_pearson_0.192.pt\n",
      "Mean negative model output: -4.099063396453857\n",
      "Mean human scores: -5.17561674118042\n",
      "\n",
      "train_0_test_4_pearson_0.152.pt\n",
      "Mean negative model output: -4.067773342132568\n",
      "Mean human scores: -5.158359050750732\n",
      "\n",
      "train_0_test_5_pearson_0.13.pt\n",
      "Mean negative model output: -4.40347957611084\n",
      "Mean human scores: -2.8459370136260986\n",
      "\n"
     ]
    }
   ],
   "source": [
    "root = 'train_0_test'\n",
    "\n",
    "for file_name in os.listdir(f\"{uglobals.OUTPUTS_DIR}/train_oracle\"):\n",
    "    if root not in file_name:\n",
    "        continue\n",
    "    file_path = f\"{uglobals.OUTPUTS_DIR}/train_oracle/{file_name}\"\n",
    "\n",
    "    loaded = torch.load(file_path)\n",
    "    model_outs, scores = torch.tensor(loaded['model_outs']), torch.tensor(loaded['scores'])\n",
    "    \n",
    "    print(file_name)\n",
    "    print(f'Mean negative model output: {-model_outs.mean()}')\n",
    "    print(f'Mean human scores: {scores.mean()}')\n",
    "    print()"
   ]
  },
  {
   "cell_type": "code",
   "execution_count": null,
   "metadata": {},
   "outputs": [],
   "source": []
  }
 ],
 "metadata": {
  "kernelspec": {
   "display_name": "khan",
   "language": "python",
   "name": "python3"
  },
  "language_info": {
   "codemirror_mode": {
    "name": "ipython",
    "version": 3
   },
   "file_extension": ".py",
   "mimetype": "text/x-python",
   "name": "python",
   "nbconvert_exporter": "python",
   "pygments_lexer": "ipython3",
   "version": "3.9.17"
  }
 },
 "nbformat": 4,
 "nbformat_minor": 2
}
